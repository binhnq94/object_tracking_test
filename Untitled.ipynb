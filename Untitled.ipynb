{
 "cells": [
  {
   "cell_type": "code",
   "execution_count": 2,
   "id": "65a08df1-10f4-401c-be8f-8f39d0d1574d",
   "metadata": {},
   "outputs": [
    {
     "name": "stderr",
     "output_type": "stream",
     "text": [
      "/home/binhnq/anaconda3/envs/object_tracking/lib/python3.10/site-packages/tqdm/auto.py:22: TqdmWarning: IProgress not found. Please update jupyter and ipywidgets. See https://ipywidgets.readthedocs.io/en/stable/user_install.html\n",
      "  from .autonotebook import tqdm as notebook_tqdm\n"
     ]
    }
   ],
   "source": [
    "import os\n",
    "import os.path\n",
    "\n",
    "import cv2\n",
    "import torch\n",
    "import torchvision"
   ]
  },
  {
   "cell_type": "code",
   "execution_count": 3,
   "id": "b1b8872e-205e-49bd-a09a-2107d7d90a06",
   "metadata": {},
   "outputs": [
    {
     "name": "stderr",
     "output_type": "stream",
     "text": [
      "Using cache found in /home/binhnq/.cache/torch/hub/ultralytics_yolov5_master\n",
      "YOLOv5 🚀 2022-10-6 Python-3.10.6 torch-1.12.1 CPU\n",
      "\n",
      "Fusing layers... \n",
      "YOLOv5s summary: 213 layers, 7225885 parameters, 0 gradients\n",
      "Adding AutoShape... \n"
     ]
    },
    {
     "name": "stdout",
     "output_type": "stream",
     "text": [
      "{'video': {'duration': [11.177833], 'fps': [29.97002997002997]}, 'audio': {'duration': [], 'framerate': []}, 'subtitles': {'duration': []}, 'cc': {'duration': []}}\n"
     ]
    }
   ],
   "source": [
    "# Model\n",
    "model = torch.hub.load('ultralytics/yolov5', 'yolov5s', pretrained=True)\n",
    "video_path = os.path.join('videos/Traffic.mp4')\n",
    "\n",
    "stream = \"video\"\n",
    "\n",
    "video = torchvision.io.VideoReader(video_path, stream)\n",
    "print(video.get_metadata())"
   ]
  },
  {
   "cell_type": "code",
   "execution_count": 4,
   "id": "5851806e-5e51-4435-88a4-e2c9263d245b",
   "metadata": {},
   "outputs": [],
   "source": [
    "frame = next(video)"
   ]
  },
  {
   "cell_type": "code",
   "execution_count": 5,
   "id": "130ca98f-b797-4408-ada4-bda5e1e834a8",
   "metadata": {},
   "outputs": [],
   "source": [
    "results = model([frame['data'].numpy()])"
   ]
  },
  {
   "cell_type": "code",
   "execution_count": 6,
   "id": "4f8f0386-7d3c-4772-bfcb-a55f983c7e4c",
   "metadata": {},
   "outputs": [
    {
     "data": {
      "text/plain": [
       "tensor([[1.08387e+03, 1.07809e+02, 1.13363e+03, 1.51756e+02, 8.26093e-01, 2.00000e+00],\n",
       "        [1.01433e+03, 1.07066e+02, 1.06203e+03, 1.54177e+02, 7.78130e-01, 2.00000e+00],\n",
       "        [1.76554e+03, 6.64553e+01, 1.82932e+03, 9.53462e+01, 6.17165e-01, 2.00000e+00],\n",
       "        [9.79111e+02, 6.16856e+01, 1.02861e+03, 9.52014e+01, 5.27561e-01, 2.00000e+00],\n",
       "        [1.70230e+03, 6.36003e+01, 1.76399e+03, 9.58610e+01, 5.22437e-01, 2.00000e+00],\n",
       "        [1.02569e+03, 1.06737e+02, 1.13125e+03, 1.53694e+02, 3.60784e-01, 2.00000e+00]])"
      ]
     },
     "execution_count": 6,
     "metadata": {},
     "output_type": "execute_result"
    }
   ],
   "source": [
    "results.xyxy[0]"
   ]
  },
  {
   "cell_type": "code",
   "execution_count": 18,
   "id": "c5a9d2fe-417f-40e6-afb1-dcb068c7cb67",
   "metadata": {},
   "outputs": [],
   "source": [
    "xyxy_pd = results.pandas().xyxy[0]"
   ]
  },
  {
   "cell_type": "code",
   "execution_count": 22,
   "id": "95b239a6-02fb-4e4f-b2d9-e9ced53c7e14",
   "metadata": {},
   "outputs": [
    {
     "data": {
      "text/html": [
       "<div>\n",
       "<style scoped>\n",
       "    .dataframe tbody tr th:only-of-type {\n",
       "        vertical-align: middle;\n",
       "    }\n",
       "\n",
       "    .dataframe tbody tr th {\n",
       "        vertical-align: top;\n",
       "    }\n",
       "\n",
       "    .dataframe thead th {\n",
       "        text-align: right;\n",
       "    }\n",
       "</style>\n",
       "<table border=\"1\" class=\"dataframe\">\n",
       "  <thead>\n",
       "    <tr style=\"text-align: right;\">\n",
       "      <th></th>\n",
       "      <th>xmin</th>\n",
       "      <th>ymin</th>\n",
       "      <th>xmax</th>\n",
       "      <th>ymax</th>\n",
       "      <th>confidence</th>\n",
       "      <th>class</th>\n",
       "      <th>name</th>\n",
       "    </tr>\n",
       "  </thead>\n",
       "  <tbody>\n",
       "    <tr>\n",
       "      <th>0</th>\n",
       "      <td>1083.873779</td>\n",
       "      <td>107.808640</td>\n",
       "      <td>1133.633057</td>\n",
       "      <td>151.755508</td>\n",
       "      <td>0.826093</td>\n",
       "      <td>2</td>\n",
       "      <td>car</td>\n",
       "    </tr>\n",
       "    <tr>\n",
       "      <th>1</th>\n",
       "      <td>1014.331482</td>\n",
       "      <td>107.066467</td>\n",
       "      <td>1062.028198</td>\n",
       "      <td>154.177307</td>\n",
       "      <td>0.778130</td>\n",
       "      <td>2</td>\n",
       "      <td>car</td>\n",
       "    </tr>\n",
       "    <tr>\n",
       "      <th>2</th>\n",
       "      <td>1765.543945</td>\n",
       "      <td>66.455292</td>\n",
       "      <td>1829.317383</td>\n",
       "      <td>95.346176</td>\n",
       "      <td>0.617165</td>\n",
       "      <td>2</td>\n",
       "      <td>car</td>\n",
       "    </tr>\n",
       "    <tr>\n",
       "      <th>3</th>\n",
       "      <td>979.110901</td>\n",
       "      <td>61.685555</td>\n",
       "      <td>1028.609253</td>\n",
       "      <td>95.201431</td>\n",
       "      <td>0.527561</td>\n",
       "      <td>2</td>\n",
       "      <td>car</td>\n",
       "    </tr>\n",
       "    <tr>\n",
       "      <th>4</th>\n",
       "      <td>1702.298950</td>\n",
       "      <td>63.600334</td>\n",
       "      <td>1763.992310</td>\n",
       "      <td>95.860977</td>\n",
       "      <td>0.522437</td>\n",
       "      <td>2</td>\n",
       "      <td>car</td>\n",
       "    </tr>\n",
       "    <tr>\n",
       "      <th>5</th>\n",
       "      <td>1025.688477</td>\n",
       "      <td>106.736916</td>\n",
       "      <td>1131.249390</td>\n",
       "      <td>153.694031</td>\n",
       "      <td>0.360784</td>\n",
       "      <td>2</td>\n",
       "      <td>car</td>\n",
       "    </tr>\n",
       "  </tbody>\n",
       "</table>\n",
       "</div>"
      ],
      "text/plain": [
       "          xmin        ymin         xmax        ymax  confidence  class name\n",
       "0  1083.873779  107.808640  1133.633057  151.755508    0.826093      2  car\n",
       "1  1014.331482  107.066467  1062.028198  154.177307    0.778130      2  car\n",
       "2  1765.543945   66.455292  1829.317383   95.346176    0.617165      2  car\n",
       "3   979.110901   61.685555  1028.609253   95.201431    0.527561      2  car\n",
       "4  1702.298950   63.600334  1763.992310   95.860977    0.522437      2  car\n",
       "5  1025.688477  106.736916  1131.249390  153.694031    0.360784      2  car"
      ]
     },
     "execution_count": 22,
     "metadata": {},
     "output_type": "execute_result"
    }
   ],
   "source": [
    "xyxy_pd[xyxy_pd['name'] == 'car']"
   ]
  },
  {
   "cell_type": "code",
   "execution_count": null,
   "id": "e3e38805-a44a-4ecd-b7ca-342f39325e3e",
   "metadata": {},
   "outputs": [],
   "source": []
  }
 ],
 "metadata": {
  "kernelspec": {
   "display_name": "Python 3 (ipykernel)",
   "language": "python",
   "name": "python3"
  },
  "language_info": {
   "codemirror_mode": {
    "name": "ipython",
    "version": 3
   },
   "file_extension": ".py",
   "mimetype": "text/x-python",
   "name": "python",
   "nbconvert_exporter": "python",
   "pygments_lexer": "ipython3",
   "version": "3.10.6"
  }
 },
 "nbformat": 4,
 "nbformat_minor": 5
}
